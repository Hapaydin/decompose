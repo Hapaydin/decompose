{
  "nbformat": 4,
  "nbformat_minor": 0,
  "metadata": {
    "colab": {
      "name": "DeCmps-Gini-FeatureSelect.ipynb",
      "provenance": [],
      "collapsed_sections": [],
      "authorship_tag": "ABX9TyOOXt9DfUfYse8ltvcWTD64"
    },
    "kernelspec": {
      "name": "python3",
      "display_name": "Python 3"
    }
  },
  "cells": [
    {
      "cell_type": "code",
      "metadata": {
        "id": "bO10audS3LNS",
        "colab": {
          "base_uri": "https://localhost:8080/"
        },
        "outputId": "58b7e06f-bce2-4f15-8fa7-2df998cfa522"
      },
      "source": [
        "!pip install ITMO_FS\n",
        "import ITMO_FS \n",
        "from ITMO_FS.filters.univariate import *\n",
        "from sklearn.datasets import make_classification"
      ],
      "execution_count": 15,
      "outputs": [
        {
          "output_type": "stream",
          "text": [
            "Requirement already satisfied: ITMO_FS in /usr/local/lib/python3.7/dist-packages (0.3.3)\n",
            "Requirement already satisfied: imblearn in /usr/local/lib/python3.7/dist-packages (from ITMO_FS) (0.0)\n",
            "Requirement already satisfied: qpsolvers in /usr/local/lib/python3.7/dist-packages (from ITMO_FS) (1.6.1)\n",
            "Requirement already satisfied: scipy in /usr/local/lib/python3.7/dist-packages (from ITMO_FS) (1.4.1)\n",
            "Requirement already satisfied: numpy in /usr/local/lib/python3.7/dist-packages (from ITMO_FS) (1.19.5)\n",
            "Requirement already satisfied: scikit-learn in /usr/local/lib/python3.7/dist-packages (from ITMO_FS) (0.22.2.post1)\n",
            "Requirement already satisfied: imbalanced-learn in /usr/local/lib/python3.7/dist-packages (from imblearn->ITMO_FS) (0.4.3)\n",
            "Requirement already satisfied: quadprog>=0.1.8 in /usr/local/lib/python3.7/dist-packages (from qpsolvers->ITMO_FS) (0.1.8)\n",
            "Requirement already satisfied: joblib>=0.11 in /usr/local/lib/python3.7/dist-packages (from scikit-learn->ITMO_FS) (1.0.1)\n",
            "Requirement already satisfied: Cython in /usr/local/lib/python3.7/dist-packages (from quadprog>=0.1.8->qpsolvers->ITMO_FS) (0.29.22)\n"
          ],
          "name": "stdout"
        }
      ]
    },
    {
      "cell_type": "code",
      "metadata": {
        "id": "cyy0XfSARRQZ",
        "colab": {
          "base_uri": "https://localhost:8080/"
        },
        "outputId": "fde6cf7a-6b79-4412-ce3e-690187eef403"
      },
      "source": [
        "from google.colab import drive \n",
        "drive.mount('/content/gdrive')\n",
        "from sklearn.model_selection import KFold"
      ],
      "execution_count": 16,
      "outputs": [
        {
          "output_type": "stream",
          "text": [
            "Drive already mounted at /content/gdrive; to attempt to forcibly remount, call drive.mount(\"/content/gdrive\", force_remount=True).\n"
          ],
          "name": "stdout"
        }
      ]
    },
    {
      "cell_type": "code",
      "metadata": {
        "id": "dXj70cxRRXkF"
      },
      "source": [
        "import numpy \n",
        "import pandas as pd\n",
        "from pandas import read_csv\n",
        "Streamflow=pd.read_csv('/content/gdrive/My Drive/Colab Notebooks/12188MT-1SSA-1.csv', delimiter=',')\n",
        "import numpy as np\n",
        "X= Streamflow.drop('Q',axis=1)\n",
        "X= X.drop('Wind',axis=1)\n",
        "y= Streamflow['Q']"
      ],
      "execution_count": 17,
      "outputs": []
    },
    {
      "cell_type": "code",
      "metadata": {
        "id": "F_Vm_Q0SRSiv",
        "colab": {
          "base_uri": "https://localhost:8080/"
        },
        "outputId": "820237ab-8f08-432f-db22-fe41b12a388f"
      },
      "source": [
        "print (X.shape)\n",
        "print (y[0:10])"
      ],
      "execution_count": 18,
      "outputs": [
        {
          "output_type": "stream",
          "text": [
            "(237, 12)\n",
            "0    1.39\n",
            "1    1.39\n",
            "2    1.73\n",
            "3    9.34\n",
            "4    4.14\n",
            "5    1.49\n",
            "6    0.21\n",
            "7    0.47\n",
            "8    0.24\n",
            "9    0.99\n",
            "Name: Q, dtype: float64\n"
          ],
          "name": "stdout"
        }
      ]
    },
    {
      "cell_type": "code",
      "metadata": {
        "id": "fYlvMbPtAcS3"
      },
      "source": [
        "f2=UnivariateFilter (gini_index , select_k_best)\n",
        "f2.fit(X,y)"
      ],
      "execution_count": 19,
      "outputs": []
    },
    {
      "cell_type": "code",
      "metadata": {
        "id": "GsAeDfy9uX5l",
        "colab": {
          "base_uri": "https://localhost:8080/"
        },
        "outputId": "b3f00418-fefe-4fbd-a988-26ca80502fe3"
      },
      "source": [
        "print (f2)"
      ],
      "execution_count": 20,
      "outputs": [
        {
          "output_type": "stream",
          "text": [
            "Univariate filter with measure gini_index and cutting rule select_k_best\n"
          ],
          "name": "stdout"
        }
      ]
    },
    {
      "cell_type": "code",
      "metadata": {
        "id": "KJh5OwqJoGfm",
        "colab": {
          "base_uri": "https://localhost:8080/"
        },
        "outputId": "5bbd6512-3852-4b6f-eec4-1bee04055a39"
      },
      "source": [
        "print (f2.selected_features)"
      ],
      "execution_count": 21,
      "outputs": [
        {
          "output_type": "stream",
          "text": [
            "functools.partial(<function __select_k at 0x7f3c0ec994d0>, k={'Q-1': 0.017116572578485423, 'Q-2': 0.030219290837100843, 'Q-3': 0.03875060861282842, 'MTI': 0.041813888825493084, 'Prep': 0.07111015544474286, 'Humid': 0.0029832853466178477, 'Temp': 0.05168615433170798, 'MeanQ': 0.03478414158521659, 'Comp0': 0.06044979956414909, 'Cemp1': 0.033041529083596366, 'Comp2': 0.05039979043091858, 'Comp3': 0.03450633500247058}, reverse=True)\n"
          ],
          "name": "stdout"
        }
      ]
    },
    {
      "cell_type": "code",
      "metadata": {
        "id": "H5DzMcTkoKBG",
        "colab": {
          "base_uri": "https://localhost:8080/"
        },
        "outputId": "b05ca10a-7382-4e22-be5b-bc2b50186893"
      },
      "source": [
        "from pprint import pprint\n",
        "pprint(vars(f2))"
      ],
      "execution_count": 22,
      "outputs": [
        {
          "output_type": "stream",
          "text": [
            "{'cutting_rule': <function select_k_best at 0x7f3c0ec993b0>,\n",
            " 'feature_names': {'Cemp1': 'Cemp1',\n",
            "                   'Comp0': 'Comp0',\n",
            "                   'Comp2': 'Comp2',\n",
            "                   'Comp3': 'Comp3',\n",
            "                   'Humid': 'Humid',\n",
            "                   'MTI': 'MTI',\n",
            "                   'MeanQ': 'MeanQ',\n",
            "                   'Prep': 'Prep',\n",
            "                   'Q-1': 'Q-1',\n",
            "                   'Q-2': 'Q-2',\n",
            "                   'Q-3': 'Q-3',\n",
            "                   'Temp': 'Temp'},\n",
            " 'feature_scores': {'Cemp1': 0.033041529083596366,\n",
            "                    'Comp0': 0.06044979956414909,\n",
            "                    'Comp2': 0.05039979043091858,\n",
            "                    'Comp3': 0.03450633500247058,\n",
            "                    'Humid': 0.0029832853466178477,\n",
            "                    'MTI': 0.041813888825493084,\n",
            "                    'MeanQ': 0.03478414158521659,\n",
            "                    'Prep': 0.07111015544474286,\n",
            "                    'Q-1': 0.017116572578485423,\n",
            "                    'Q-2': 0.030219290837100843,\n",
            "                    'Q-3': 0.03875060861282842,\n",
            "                    'Temp': 0.05168615433170798},\n",
            " 'measure': <function gini_index at 0x7f3c0ec97830>,\n",
            " 'selected_features': functools.partial(<function __select_k at 0x7f3c0ec994d0>, k={'Q-1': 0.017116572578485423, 'Q-2': 0.030219290837100843, 'Q-3': 0.03875060861282842, 'MTI': 0.041813888825493084, 'Prep': 0.07111015544474286, 'Humid': 0.0029832853466178477, 'Temp': 0.05168615433170798, 'MeanQ': 0.03478414158521659, 'Comp0': 0.06044979956414909, 'Cemp1': 0.033041529083596366, 'Comp2': 0.05039979043091858, 'Comp3': 0.03450633500247058}, reverse=True)}\n"
          ],
          "name": "stdout"
        }
      ]
    },
    {
      "cell_type": "code",
      "metadata": {
        "id": "uShn49HkoKWB",
        "colab": {
          "base_uri": "https://localhost:8080/"
        },
        "outputId": "bd7cf4e5-b6c6-42c4-ffb2-789b3a911dda"
      },
      "source": [
        "print(f2.measure)"
      ],
      "execution_count": 23,
      "outputs": [
        {
          "output_type": "stream",
          "text": [
            "<function gini_index at 0x7f3c0ec97830>\n"
          ],
          "name": "stdout"
        }
      ]
    },
    {
      "cell_type": "code",
      "metadata": {
        "id": "c3GhpoYkoKmU",
        "colab": {
          "base_uri": "https://localhost:8080/"
        },
        "outputId": "c62602a4-7893-4a31-bbf0-85893f5e9e06"
      },
      "source": [
        "for attr in dir(f2):\n",
        "  print(\"obj.%s = %r\" % (attr, getattr(f2, attr)))"
      ],
      "execution_count": 24,
      "outputs": [
        {
          "output_type": "stream",
          "text": [
            "obj.__class__ = <class 'ITMO_FS.filters.univariate.UnivariateFilter.UnivariateFilter'>\n",
            "obj.__delattr__ = <method-wrapper '__delattr__' of UnivariateFilter object at 0x7f3c0c075d50>\n",
            "obj.__dict__ = {'measure': <function gini_index at 0x7f3c0ec97830>, 'cutting_rule': <function select_k_best at 0x7f3c0ec993b0>, 'feature_names': {'Q-1': 'Q-1', 'Q-2': 'Q-2', 'Q-3': 'Q-3', 'MTI': 'MTI', 'Prep': 'Prep', 'Humid': 'Humid', 'Temp': 'Temp', 'MeanQ': 'MeanQ', 'Comp0': 'Comp0', 'Cemp1': 'Cemp1', 'Comp2': 'Comp2', 'Comp3': 'Comp3'}, 'feature_scores': {'Q-1': 0.017116572578485423, 'Q-2': 0.030219290837100843, 'Q-3': 0.03875060861282842, 'MTI': 0.041813888825493084, 'Prep': 0.07111015544474286, 'Humid': 0.0029832853466178477, 'Temp': 0.05168615433170798, 'MeanQ': 0.03478414158521659, 'Comp0': 0.06044979956414909, 'Cemp1': 0.033041529083596366, 'Comp2': 0.05039979043091858, 'Comp3': 0.03450633500247058}, 'selected_features': functools.partial(<function __select_k at 0x7f3c0ec994d0>, k={'Q-1': 0.017116572578485423, 'Q-2': 0.030219290837100843, 'Q-3': 0.03875060861282842, 'MTI': 0.041813888825493084, 'Prep': 0.07111015544474286, 'Humid': 0.0029832853466178477, 'Temp': 0.05168615433170798, 'MeanQ': 0.03478414158521659, 'Comp0': 0.06044979956414909, 'Cemp1': 0.033041529083596366, 'Comp2': 0.05039979043091858, 'Comp3': 0.03450633500247058}, reverse=True)}\n",
            "obj.__dir__ = <built-in method __dir__ of UnivariateFilter object at 0x7f3c0c075d50>\n",
            "obj.__doc__ = '\\n        Basic interface for using univariate measures for feature selection.\\n        List of available measures is in ITMO_FS.filters.univariate.measures, also you can\\n        provide your own measure but it should suit the argument scheme for measures,\\n        i.e. take two arguments x,y and return scores for all the features in dataset x.\\n        Same applies to cutting rules.\\n\\n        Parameters\\n        ----------\\n        measure : string or callable\\n            A metric name defined in GLOB_MEASURE or a callable with signature\\n            measure (sample dataset, labels of dataset samples)\\n            which should return a list of metric values for each feature in the dataset.\\n        cutting_rule : string or callables\\n            A cutting rule name defined in GLOB_CR or a callable with signature\\n            cutting_rule (features),\\n            which should return a list features ranked by some rule.\\n\\n        See Also\\n        --------\\n\\n        Examples\\n        --------\\n\\n        >>> from sklearn.datasets import make_classification\\n        >>> from ITMO_FS.filters.univariate import select_k_best\\n        >>> from ITMO_FS.filters.univariate import UnivariateFilter\\n        >>> from ITMO_FS.filters.univariate import f_ratio_measure\\n        >>> x, y = make_classification(1000, 100, n_informative = 10, n_redundant = 30, n_repeated = 10, shuffle = False)\\n        >>> ufilter = UnivariateFilter(f_ratio_measure, select_k_best(10))\\n        >>> ufilter.fit(x, y)\\n        >>> print(ufilter.selected_features)\\n    '\n",
            "obj.__eq__ = <method-wrapper '__eq__' of UnivariateFilter object at 0x7f3c0c075d50>\n",
            "obj.__format__ = <built-in method __format__ of UnivariateFilter object at 0x7f3c0c075d50>\n",
            "obj.__ge__ = <method-wrapper '__ge__' of UnivariateFilter object at 0x7f3c0c075d50>\n",
            "obj.__getattribute__ = <method-wrapper '__getattribute__' of UnivariateFilter object at 0x7f3c0c075d50>\n",
            "obj.__getstate__ = <bound method BaseEstimator.__getstate__ of Univariate filter with measure gini_index and cutting rule select_k_best>\n",
            "obj.__gt__ = <method-wrapper '__gt__' of UnivariateFilter object at 0x7f3c0c075d50>\n",
            "obj.__hash__ = <method-wrapper '__hash__' of UnivariateFilter object at 0x7f3c0c075d50>\n",
            "obj.__init__ = <bound method UnivariateFilter.__init__ of Univariate filter with measure gini_index and cutting rule select_k_best>\n",
            "obj.__init_subclass__ = <built-in method __init_subclass__ of type object at 0x563fe15596a0>\n",
            "obj.__le__ = <method-wrapper '__le__' of UnivariateFilter object at 0x7f3c0c075d50>\n",
            "obj.__lt__ = <method-wrapper '__lt__' of UnivariateFilter object at 0x7f3c0c075d50>\n",
            "obj.__module__ = 'ITMO_FS.filters.univariate.UnivariateFilter'\n",
            "obj.__ne__ = <method-wrapper '__ne__' of UnivariateFilter object at 0x7f3c0c075d50>\n",
            "obj.__new__ = <built-in method __new__ of type object at 0x563fdd8a6ba0>\n",
            "obj.__reduce__ = <built-in method __reduce__ of UnivariateFilter object at 0x7f3c0c075d50>\n",
            "obj.__reduce_ex__ = <built-in method __reduce_ex__ of UnivariateFilter object at 0x7f3c0c075d50>\n",
            "obj.__repr__ = <bound method UnivariateFilter.__repr__ of Univariate filter with measure gini_index and cutting rule select_k_best>\n",
            "obj.__setattr__ = <method-wrapper '__setattr__' of UnivariateFilter object at 0x7f3c0c075d50>\n",
            "obj.__setstate__ = <bound method BaseEstimator.__setstate__ of Univariate filter with measure gini_index and cutting rule select_k_best>\n",
            "obj.__sizeof__ = <built-in method __sizeof__ of UnivariateFilter object at 0x7f3c0c075d50>\n",
            "obj.__str__ = <method-wrapper '__str__' of UnivariateFilter object at 0x7f3c0c075d50>\n",
            "obj.__subclasshook__ = <built-in method __subclasshook__ of type object at 0x563fe15596a0>\n",
            "obj.__weakref__ = None\n",
            "obj._check_input = <function DataChecker._check_input at 0x7f3c0ef0f7a0>\n",
            "obj._get_param_names = <bound method BaseEstimator._get_param_names of <class 'ITMO_FS.filters.univariate.UnivariateFilter.UnivariateFilter'>>\n",
            "obj._get_tags = <bound method BaseEstimator._get_tags of Univariate filter with measure gini_index and cutting rule select_k_best>\n",
            "obj._more_tags = <bound method BaseEstimator._more_tags of Univariate filter with measure gini_index and cutting rule select_k_best>\n",
            "obj.cutting_rule = <function select_k_best at 0x7f3c0ec993b0>\n",
            "obj.feature_names = {'Q-1': 'Q-1', 'Q-2': 'Q-2', 'Q-3': 'Q-3', 'MTI': 'MTI', 'Prep': 'Prep', 'Humid': 'Humid', 'Temp': 'Temp', 'MeanQ': 'MeanQ', 'Comp0': 'Comp0', 'Cemp1': 'Cemp1', 'Comp2': 'Comp2', 'Comp3': 'Comp3'}\n",
            "obj.feature_scores = {'Q-1': 0.017116572578485423, 'Q-2': 0.030219290837100843, 'Q-3': 0.03875060861282842, 'MTI': 0.041813888825493084, 'Prep': 0.07111015544474286, 'Humid': 0.0029832853466178477, 'Temp': 0.05168615433170798, 'MeanQ': 0.03478414158521659, 'Comp0': 0.06044979956414909, 'Cemp1': 0.033041529083596366, 'Comp2': 0.05039979043091858, 'Comp3': 0.03450633500247058}\n",
            "obj.fit = <bound method UnivariateFilter.fit of Univariate filter with measure gini_index and cutting rule select_k_best>\n",
            "obj.fit_transform = <bound method UnivariateFilter.fit_transform of Univariate filter with measure gini_index and cutting rule select_k_best>\n",
            "obj.get_feature_names = <bound method DataChecker.get_feature_names of Univariate filter with measure gini_index and cutting rule select_k_best>\n",
            "obj.get_params = <bound method BaseEstimator.get_params of Univariate filter with measure gini_index and cutting rule select_k_best>\n",
            "obj.get_scores = <bound method UnivariateFilter.get_scores of Univariate filter with measure gini_index and cutting rule select_k_best>\n",
            "obj.measure = <function gini_index at 0x7f3c0ec97830>\n",
            "obj.selected_features = functools.partial(<function __select_k at 0x7f3c0ec994d0>, k={'Q-1': 0.017116572578485423, 'Q-2': 0.030219290837100843, 'Q-3': 0.03875060861282842, 'MTI': 0.041813888825493084, 'Prep': 0.07111015544474286, 'Humid': 0.0029832853466178477, 'Temp': 0.05168615433170798, 'MeanQ': 0.03478414158521659, 'Comp0': 0.06044979956414909, 'Cemp1': 0.033041529083596366, 'Comp2': 0.05039979043091858, 'Comp3': 0.03450633500247058}, reverse=True)\n",
            "obj.set_params = <bound method BaseEstimator.set_params of Univariate filter with measure gini_index and cutting rule select_k_best>\n",
            "obj.transform = <bound method UnivariateFilter.transform of Univariate filter with measure gini_index and cutting rule select_k_best>\n"
          ],
          "name": "stdout"
        }
      ]
    },
    {
      "cell_type": "code",
      "metadata": {
        "id": "g9xvEsPQIMen",
        "colab": {
          "base_uri": "https://localhost:8080/"
        },
        "outputId": "4dbf594b-0fec-474e-8eb6-99de820bddb7"
      },
      "source": [
        "print (X[0:2])"
      ],
      "execution_count": 25,
      "outputs": [
        {
          "output_type": "stream",
          "text": [
            "    Q-1   Q-2   Q-3  MTI  Prep  ...  MeanQ    Comp0    Cemp1    Comp2    Comp3\n",
            "0  0.79  0.72  0.75    1   2.2  ...   1.00  3.01621 -1.04764 -1.60266  0.82547\n",
            "1  1.39  0.79  0.72    2   7.0  ...   1.29  3.11118  0.33775 -2.39148  0.35854\n",
            "\n",
            "[2 rows x 12 columns]\n"
          ],
          "name": "stdout"
        }
      ]
    },
    {
      "cell_type": "code",
      "metadata": {
        "id": "aT3bk_GXtLSY",
        "colab": {
          "base_uri": "https://localhost:8080/"
        },
        "outputId": "3b256d62-f888-4067-9d58-88989c9e8e15"
      },
      "source": [
        "dir(f2)"
      ],
      "execution_count": 26,
      "outputs": [
        {
          "output_type": "execute_result",
          "data": {
            "text/plain": [
              "['__class__',\n",
              " '__delattr__',\n",
              " '__dict__',\n",
              " '__dir__',\n",
              " '__doc__',\n",
              " '__eq__',\n",
              " '__format__',\n",
              " '__ge__',\n",
              " '__getattribute__',\n",
              " '__getstate__',\n",
              " '__gt__',\n",
              " '__hash__',\n",
              " '__init__',\n",
              " '__init_subclass__',\n",
              " '__le__',\n",
              " '__lt__',\n",
              " '__module__',\n",
              " '__ne__',\n",
              " '__new__',\n",
              " '__reduce__',\n",
              " '__reduce_ex__',\n",
              " '__repr__',\n",
              " '__setattr__',\n",
              " '__setstate__',\n",
              " '__sizeof__',\n",
              " '__str__',\n",
              " '__subclasshook__',\n",
              " '__weakref__',\n",
              " '_check_input',\n",
              " '_get_param_names',\n",
              " '_get_tags',\n",
              " '_more_tags',\n",
              " 'cutting_rule',\n",
              " 'feature_names',\n",
              " 'feature_scores',\n",
              " 'fit',\n",
              " 'fit_transform',\n",
              " 'get_feature_names',\n",
              " 'get_params',\n",
              " 'get_scores',\n",
              " 'measure',\n",
              " 'selected_features',\n",
              " 'set_params',\n",
              " 'transform']"
            ]
          },
          "metadata": {
            "tags": []
          },
          "execution_count": 26
        }
      ]
    }
  ]
}