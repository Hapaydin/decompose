{
  "nbformat": 4,
  "nbformat_minor": 0,
  "metadata": {
    "colab": {
      "name": "DeCmps-ADF.ipynb",
      "provenance": [],
      "collapsed_sections": []
    },
    "kernelspec": {
      "display_name": "Python 3",
      "language": "python",
      "name": "python3"
    },
    "language_info": {
      "codemirror_mode": {
        "name": "ipython",
        "version": 3
      },
      "file_extension": ".py",
      "mimetype": "text/x-python",
      "name": "python",
      "nbconvert_exporter": "python",
      "pygments_lexer": "ipython3",
      "version": "3.6.5"
    }
  },
  "cells": [
    {
      "cell_type": "code",
      "metadata": {
        "colab": {
          "base_uri": "https://localhost:8080/"
        },
        "id": "o1QeZLkvy77-",
        "outputId": "03bdadf1-287c-4d43-fd7a-e18da8257973"
      },
      "source": [
        "from pandas import read_csv\n",
        "from statsmodels.tsa.stattools import adfuller\n",
        "import pandas as pd \n",
        "from pandas import read_csv\n",
        "from google.colab import drive \n",
        "drive.mount('/content/gdrive')"
      ],
      "execution_count": 1,
      "outputs": [
        {
          "output_type": "stream",
          "text": [
            "/usr/local/lib/python3.7/dist-packages/statsmodels/tools/_testing.py:19: FutureWarning: pandas.util.testing is deprecated. Use the functions in the public API at pandas.testing instead.\n",
            "  import pandas.util.testing as tm\n"
          ],
          "name": "stderr"
        },
        {
          "output_type": "stream",
          "text": [
            "Mounted at /content/gdrive\n"
          ],
          "name": "stdout"
        }
      ]
    },
    {
      "cell_type": "code",
      "metadata": {
        "scrolled": true,
        "id": "Si3zZ6AIz6f3",
        "colab": {
          "base_uri": "https://localhost:8080/"
        },
        "outputId": "251acbc4-c189-49b1-f6c0-601b0e525e5d"
      },
      "source": [
        "df = pd.read_csv('/content/gdrive/My Drive/Colab Notebooks/12188M.csv', delimiter=';')\n",
        "X=df['Q']\n",
        "X.head()"
      ],
      "execution_count": 4,
      "outputs": [
        {
          "output_type": "execute_result",
          "data": {
            "text/plain": [
              "0    1.39\n",
              "1    1.39\n",
              "2    1.73\n",
              "3    9.34\n",
              "4    4.14\n",
              "Name: Q, dtype: float64"
            ]
          },
          "metadata": {
            "tags": []
          },
          "execution_count": 4
        }
      ]
    },
    {
      "cell_type": "code",
      "metadata": {
        "colab": {
          "base_uri": "https://localhost:8080/"
        },
        "id": "opjWkENdz6f5",
        "outputId": "370aa2d7-f26c-4f04-bb85-2616dc2e99f7"
      },
      "source": [
        "result = adfuller(X)\n",
        "print('ADF Statistic: %f' % result[0])\n",
        "print('p-value: %f' % result[1])\n",
        "print('Critical Values:')\n",
        "for key, value in result[4].items():\n",
        "\tprint('\\t%s: %.3f' % (key, value))"
      ],
      "execution_count": 5,
      "outputs": [
        {
          "output_type": "stream",
          "text": [
            "ADF Statistic: -3.004320\n",
            "p-value: 0.034493\n",
            "Critical Values:\n",
            "\t1%: -3.460\n",
            "\t5%: -2.875\n",
            "\t10%: -2.574\n"
          ],
          "name": "stdout"
        }
      ]
    },
    {
      "cell_type": "code",
      "metadata": {
        "scrolled": true,
        "colab": {
          "base_uri": "https://localhost:8080/"
        },
        "id": "Pw7pxNGpz6f8",
        "outputId": "0ea2d963-299a-4eb1-9997-6fe6c3e573b4"
      },
      "source": [
        "print(\"Finished\")"
      ],
      "execution_count": 6,
      "outputs": [
        {
          "output_type": "stream",
          "text": [
            "Finished\n"
          ],
          "name": "stdout"
        }
      ]
    }
  ]
}