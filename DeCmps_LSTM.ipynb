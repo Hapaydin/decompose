{
  "nbformat": 4,
  "nbformat_minor": 0,
  "metadata": {
    "colab": {
      "name": "DeCmps-LSTM.ipynb",
      "provenance": [],
      "collapsed_sections": []
    },
    "kernelspec": {
      "display_name": "Python 3",
      "language": "python",
      "name": "python3"
    },
    "language_info": {
      "codemirror_mode": {
        "name": "ipython",
        "version": 3
      },
      "file_extension": ".py",
      "mimetype": "text/x-python",
      "name": "python",
      "nbconvert_exporter": "python",
      "pygments_lexer": "ipython3",
      "version": "3.6.5"
    }
  },
  "cells": [
    {
      "cell_type": "code",
      "metadata": {
        "colab": {
          "base_uri": "https://localhost:8080/"
        },
        "id": "cj5erWsexM2h",
        "outputId": "654de4b2-49ff-464f-ba43-1997e2342c96"
      },
      "source": [
        "!pip install HydroErr\n",
        "import HydroErr as HEEM\n",
        "import numpy \n",
        "import pandas as pd\n",
        "from pandas import read_csv\n",
        "import math\n",
        "import keras\n",
        "from keras.models import Sequential\n",
        "from keras.layers import LSTM\n",
        "from keras.layers import Dense, Activation\n",
        "from sklearn.metrics import mean_squared_error\n",
        "from keras.layers import BatchNormalization, Dropout\n",
        "from google.colab import drive \n",
        "drive.mount('/content/gdrive')"
      ],
      "execution_count": 14,
      "outputs": [
        {
          "output_type": "stream",
          "text": [
            "Requirement already satisfied: HydroErr in /usr/local/lib/python3.7/dist-packages (1.24)\n",
            "Requirement already satisfied: numpy in /usr/local/lib/python3.7/dist-packages (from HydroErr) (1.19.5)\n",
            "Requirement already satisfied: scipy in /usr/local/lib/python3.7/dist-packages (from HydroErr) (1.4.1)\n",
            "Drive already mounted at /content/gdrive; to attempt to forcibly remount, call drive.mount(\"/content/gdrive\", force_remount=True).\n"
          ],
          "name": "stdout"
        }
      ]
    },
    {
      "cell_type": "code",
      "metadata": {
        "id": "i0eJldqrxM29"
      },
      "source": [
        "AI_Method = \"/content/gdrive/My Drive/Colab Notebooks/Nal7/12188MT-1-LSTM-SSA-Gini-1b-Sil\"\n",
        "Var_LRs=[1e-2]# 1e-4,1e-5,1e-6,1e-7,1e-8,1e-9\n",
        "Var_Decays=[1e-4] # 1e-3,1e-4,1e-5,1e-6,1e-7,1e-8,1e-9\n",
        "Var_epochs=[100] # 100,500,1000,1500,2000\n",
        " \n",
        "Streamflow=pd.read_csv('/content/gdrive/My Drive/Colab Notebooks/12188MT-1SSA-1.csv', delimiter=',')"
      ],
      "execution_count": 15,
      "outputs": []
    },
    {
      "cell_type": "code",
      "metadata": {
        "id": "PKeLrvjKxM3N",
        "colab": {
          "base_uri": "https://localhost:8080/"
        },
        "outputId": "cbc1fd72-ab81-440d-8aad-cbb685766f43"
      },
      "source": [
        "import numpy as np\n",
        "x= Streamflow.drop('Q',axis=1)\n",
        "Y= Streamflow['Q']\n",
        "x= x.drop('Wind',axis=1)\n",
        " \n",
        "x.head()\n",
        "x.info()"
      ],
      "execution_count": 16,
      "outputs": [
        {
          "output_type": "stream",
          "text": [
            "<class 'pandas.core.frame.DataFrame'>\n",
            "RangeIndex: 237 entries, 0 to 236\n",
            "Data columns (total 12 columns):\n",
            " #   Column  Non-Null Count  Dtype  \n",
            "---  ------  --------------  -----  \n",
            " 0   Q-1     237 non-null    float64\n",
            " 1   Q-2     237 non-null    float64\n",
            " 2   Q-3     237 non-null    float64\n",
            " 3   MTI     237 non-null    int64  \n",
            " 4   Prep    237 non-null    float64\n",
            " 5   Humid   237 non-null    float64\n",
            " 6   Temp    237 non-null    float64\n",
            " 7   MeanQ   237 non-null    float64\n",
            " 8   Comp0   237 non-null    float64\n",
            " 9   Cemp1   237 non-null    float64\n",
            " 10  Comp2   237 non-null    float64\n",
            " 11  Comp3   237 non-null    float64\n",
            "dtypes: float64(11), int64(1)\n",
            "memory usage: 22.3 KB\n"
          ],
          "name": "stdout"
        }
      ]
    },
    {
      "cell_type": "code",
      "metadata": {
        "id": "HP41l7mOxM3b",
        "colab": {
          "base_uri": "https://localhost:8080/"
        },
        "outputId": "13b7705f-545b-410e-ce2e-35bd60ddd680"
      },
      "source": [
        "X=np.array(x)\n",
        "y=np.array(Y)\n",
        "print (X.shape[1])"
      ],
      "execution_count": 17,
      "outputs": [
        {
          "output_type": "stream",
          "text": [
            "12\n"
          ],
          "name": "stdout"
        }
      ]
    },
    {
      "cell_type": "code",
      "metadata": {
        "id": "NYQVG2IOxM3p"
      },
      "source": [
        "test_size = int(len(X) * 0.15)\n",
        "valid_size = int(len(X) * 0.15)\n",
        "train_size= len(X) - (valid_size+test_size)\n",
        "y_train, y_valid, y_test = y[0:train_size], y[train_size:train_size+valid_size], y[-test_size:]\n",
        "X_train, X_valid, X_test = X[0:train_size], X[train_size:train_size+valid_size], X[train_size+valid_size:]\n",
        "X_train = numpy.reshape(X_train, (X_train.shape[0], 1, X_train.shape[1]))\n",
        "X_valid = numpy.reshape(X_valid, (X_valid.shape[0], 1, X_valid.shape[1]))\n",
        "X_test = numpy.reshape(X_test, (X_test.shape[0], 1, X_test.shape[1]))\n",
        "input=X_train[1:]\n",
        "input_shape=X_train.shape[1:]"
      ],
      "execution_count": 18,
      "outputs": []
    },
    {
      "cell_type": "code",
      "metadata": {
        "id": "pDp56jR4iL5B",
        "colab": {
          "base_uri": "https://localhost:8080/"
        },
        "outputId": "cfa677a6-5914-4af1-92f8-d4b3fc2104ba"
      },
      "source": [
        "print (y_train.shape, y_valid.shape, y_test.shape)"
      ],
      "execution_count": 19,
      "outputs": [
        {
          "output_type": "stream",
          "text": [
            "(167,) (35,) (35,)\n"
          ],
          "name": "stdout"
        }
      ]
    },
    {
      "cell_type": "code",
      "metadata": {
        "id": "NZmw4JnIxM33"
      },
      "source": [
        "from datetime import datetime\n",
        "from sklearn.metrics import mean_absolute_error\n",
        "from sklearn.metrics import mean_squared_error\n",
        "from math import sqrt\n",
        "import numpy as geek"
      ],
      "execution_count": 20,
      "outputs": []
    },
    {
      "cell_type": "code",
      "metadata": {
        "id": "pisDJM4b2rzU"
      },
      "source": [
        "#def create_NN():\n",
        "model = Sequential()\n",
        "model.add(LSTM(200, input_shape=X_train.shape[1:], activation='relu',return_sequences=True))\n",
        "model.add(Dropout(0.2))\n",
        "model.add(LSTM(200, activation='relu'))\n",
        "model.add(Dropout(0.2))\n",
        "model.add(Dense(100, activation='relu'))\n",
        "model.add(Dropout(0.10))\n",
        "model.add(Dense(1, activation='relu'))"
      ],
      "execution_count": 21,
      "outputs": []
    },
    {
      "cell_type": "code",
      "metadata": {
        "id": "PZ96ms4xxM4F",
        "colab": {
          "base_uri": "https://localhost:8080/"
        },
        "outputId": "db30c4d2-91e3-4212-baff-e34687cb3151"
      },
      "source": [
        "startTime = datetime.now()\n",
        "fileOfSummary = open(AI_Method+'_Summary_'+str(datetime.now()).replace(\":\", \".\")+'.csv', \"w\")\n",
        "fileOfSummary.write(\"Method,LR,DE,Epoch,RunTime,CCTr,CCVd,CCTt,NSTr,NSVd,NSTt,WITr,WIVd,WITt,RMSETr,RMSEVd,RMSETt,MAETr,MAEVd,MAETt\"+str(X.shape[1])+\"\\n\")"
      ],
      "execution_count": 22,
      "outputs": [
        {
          "output_type": "execute_result",
          "data": {
            "text/plain": [
              "113"
            ]
          },
          "metadata": {
            "tags": []
          },
          "execution_count": 22
        }
      ]
    },
    {
      "cell_type": "code",
      "metadata": {
        "id": "5UFy_CAexM4O",
        "colab": {
          "base_uri": "https://localhost:8080/"
        },
        "outputId": "1098b3b7-9f91-431c-db06-497a4d0385ee"
      },
      "source": [
        "for e_LR in Var_LRs:\n",
        "    for e_decay in Var_Decays:\n",
        "        for e_epoch in Var_epochs:\n",
        "            \n",
        "            optimizer = keras.optimizers.Adam(lr=e_LR, decay=e_decay)\n",
        "            model.compile(optimizer=optimizer,loss='mean_squared_error')\n",
        "        \n",
        "            print(\" \")\n",
        "            print(\" \")\n",
        "            print(\"LRs:\",e_LR)\n",
        "            print(\"Decays:\",e_decay)\n",
        "            print(\"epochs:\",e_epoch)\n",
        "            history = model.fit(X_train, y_train, epochs=e_epoch, batch_size=256, verbose=0, validation_data=(X_valid, y_valid), shuffle=True)\n",
        "\n",
        "            hist_df = pd.DataFrame(history.history) \n",
        "            Time_elasped= datetime.now() - startTime\n",
        "            print('\\nTime elapsed: ', Time_elasped)\n",
        " \n",
        "            Train = model.predict(X_train)\n",
        "            Valid = model.predict(X_valid)\n",
        "            Test = model.predict(X_test)\n",
        " \n",
        "            FileName=AI_Method+'-LR'+str(e_LR)+'-DE'+str(e_decay)+'-'+str(e_epoch)\n",
        "            np.savetxt(FileName+'_Train.csv', Train)\n",
        "            np.savetxt(FileName+'_Valid.csv', Valid)\n",
        "            np.savetxt(FileName+'_Test.csv', Test)\n",
        "            \n",
        "            Train = geek.asarray(Train)\n",
        "            Valid = geek.asarray(Valid)\n",
        "            Test = geek.asarray(Test)\n",
        " \n",
        "            Train = Train.reshape(Train.shape[0])\n",
        "            Valid = Valid.reshape(Valid.shape[0])\n",
        "            Test = Test.reshape(Test.shape[0])\n",
        " \n",
        "            print(\" \")\n",
        "            print(\"LRs:\",e_LR)\n",
        "            print(\"Decays:\",e_decay)\n",
        "            print(\"epochs:\",e_epoch)\n",
        "            \n",
        "            print(\"Train ==>\")\n",
        "            CC_Train=np.corrcoef(y_train,Train)\n",
        "            print(\"CC_Train = %.3f\" %CC_Train[0,1])\n",
        " \n",
        "            NSTr=HEEM.nse(Train, y_train) \n",
        "            print(\"NSTr = %.2f\" %NSTr)\n",
        "\n",
        "            WITr=HEEM.d(Train, y_train)   \n",
        "            print(\"WITr = %.2f\" %WITr)\n",
        "\n",
        "            rootMeanSquaredErrorTr = sqrt(mean_squared_error(y_train, Train))\n",
        "            print(\"RMSE = %.2f\" % rootMeanSquaredErrorTr)\n",
        "            MAETr=mean_absolute_error(y_train, Train)\n",
        "            print(\"MAE = %.2f\" %  MAETr)\n",
        " \n",
        "            print(\"Validation ===============>\")\n",
        "            CC_Valid=np.corrcoef(y_valid,Valid)\n",
        "            print(\"CC_Test = %.3f\" %CC_Valid[0,1])\n",
        " \n",
        "            NSVd=HEEM.nse(Valid, y_valid)\n",
        "            print(\"NSTt = %.2f\" %NSVd)\n",
        " \n",
        "            WIVd=HEEM.d(Valid, y_valid)\n",
        "            print(\"WITr = %.2f\" %WITr)\n",
        "\n",
        "            rootMeanSquaredErrorVd = sqrt(mean_squared_error(y_valid, Valid))\n",
        "            print(\"RMSE = %.2f\" % rootMeanSquaredErrorVd)\n",
        "            MAEVd=mean_absolute_error(y_valid, Valid)\n",
        "            print(\"MAE = %.2f\" %  MAEVd)\n",
        "\n",
        "            print(\"Test ======================>\")\n",
        "            CC_Test=np.corrcoef(y_test,Test)\n",
        "            print(\"CC_Test = %.3f\" %CC_Test[0,1])\n",
        " \n",
        "            NSTt=HEEM.nse(Test, y_test)\n",
        "            print(\"NSTt = %.2f\" %NSTt)\n",
        " \n",
        "            WITt=HEEM.d(Test, y_test) \n",
        "            print(\"WITr = %.2f\" %WITr)\n",
        "\n",
        "            rootMeanSquaredErrorTt = sqrt(mean_squared_error(y_test, Test))\n",
        "            print(\"RMSE = %.2f\" % rootMeanSquaredErrorTt)\n",
        "            MAETt=mean_absolute_error(y_test, Test)\n",
        "            print(\"MAE = %.2f\" %  MAETt)\n",
        " \n",
        "            fileOfSummary.write(AI_Method+','+str(e_LR)+','+str(e_decay)+','+str(e_epoch)+','+str(Time_elasped)+','\n",
        "              +str(CC_Train[0,1])+','+str(CC_Valid[0,1])+','+str(CC_Test[0,1])+','\n",
        "              +str(NSTr)+','+str(NSVd)+','+str(NSTt)+','\n",
        "              +str(WITr)+','+str(WIVd)+','+str(WITt)+','\n",
        "              +str(rootMeanSquaredErrorTr)+','+str(rootMeanSquaredErrorVd)+','+str(rootMeanSquaredErrorTt)+','\n",
        "              +str(MAETr)+','+str(MAEVd)+','+str(MAETt)+'\\n')"
      ],
      "execution_count": 23,
      "outputs": [
        {
          "output_type": "stream",
          "text": [
            " \n",
            " \n",
            "LRs: 0.01\n",
            "Decays: 0.0001\n",
            "epochs: 100\n",
            "\n",
            "Time elapsed:  0:00:09.924150\n",
            " \n",
            "LRs: 0.01\n",
            "Decays: 0.0001\n",
            "epochs: 100\n",
            "Train ==>\n",
            "CC_Train = 0.934\n",
            "NSTr = 0.83\n",
            "WITr = 0.94\n",
            "RMSE = 0.97\n",
            "MAE = 0.53\n",
            "Validation ===============>\n",
            "CC_Test = 0.914\n",
            "NSTt = 0.73\n",
            "WITr = 0.94\n",
            "RMSE = 1.02\n",
            "MAE = 0.66\n",
            "Test ======================>\n",
            "CC_Test = 0.897\n",
            "NSTt = 0.79\n",
            "WITr = 0.94\n",
            "RMSE = 0.66\n",
            "MAE = 0.44\n"
          ],
          "name": "stdout"
        }
      ]
    },
    {
      "cell_type": "code",
      "metadata": {
        "id": "Uds-9YfxxM4e",
        "scrolled": true,
        "colab": {
          "base_uri": "https://localhost:8080/"
        },
        "outputId": "c740e2f9-f5d1-43a3-8eff-1be6b47e7bf1"
      },
      "source": [
        "import io\n",
        "buf = io.StringIO()\n",
        "x.info(buf=buf)\n",
        "s = buf.getvalue()\n",
        "\n",
        "fileOfSummary.write(s)\n",
        "fileOfSummary.close()\n",
        "\n",
        "print(\"Finished\")"
      ],
      "execution_count": 24,
      "outputs": [
        {
          "output_type": "stream",
          "text": [
            "Finished\n"
          ],
          "name": "stdout"
        }
      ]
    },
    {
      "cell_type": "code",
      "metadata": {
        "id": "JBpRfeyZ2L2S",
        "colab": {
          "base_uri": "https://localhost:8080/",
          "height": 295
        },
        "outputId": "520a93a9-e536-4fec-cbc4-2356a4b87eec"
      },
      "source": [
        "import matplotlib.pyplot as plt\n",
        "plt.figure(figsize=(8,4))\n",
        "plt.plot(history.history['loss'], label='Train Loss')\n",
        "plt.plot(history.history['val_loss'], label='Test Loss')\n",
        "plt.title('model loss')\n",
        "plt.ylabel('loss')\n",
        "plt.xlabel('epochs')\n",
        "plt.legend(loc='upper right')\n",
        "plt.show();"
      ],
      "execution_count": 25,
      "outputs": [
        {
          "output_type": "display_data",
          "data": {
            "image/png": "[encoded data removed]",
            "text/plain": [
              "<Figure size 576x288 with 1 Axes>"
            ]
          },
          "metadata": {
            "tags": [],
            "needs_background": "light"
          }
        }
      ]
    }
  ]
}