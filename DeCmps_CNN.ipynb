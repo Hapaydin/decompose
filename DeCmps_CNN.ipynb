{
  "nbformat": 4,
  "nbformat_minor": 0,
  "metadata": {
    "colab": {
      "name": "DeCmps-CNN.ipynb",
      "provenance": [],
      "collapsed_sections": []
    },
    "kernelspec": {
      "display_name": "Python 3",
      "language": "python",
      "name": "python3"
    },
    "language_info": {
      "codemirror_mode": {
        "name": "ipython",
        "version": 3
      },
      "file_extension": ".py",
      "mimetype": "text/x-python",
      "name": "python",
      "nbconvert_exporter": "python",
      "pygments_lexer": "ipython3",
      "version": "3.6.5"
    }
  },
  "cells": [
    {
      "cell_type": "code",
      "metadata": {
        "colab": {
          "base_uri": "https://localhost:8080/"
        },
        "id": "cj5erWsexM2h",
        "outputId": "c66cad2c-62f4-4f9f-ff98-b5435354bd0f"
      },
      "source": [
        "#!pip install HydroErr\n",
        "import HydroErr as HEEM\n",
        "import numpy \n",
        "import pandas as pd\n",
        "from pandas import read_csv\n",
        "import math\n",
        "import keras\n",
        "from keras.models import Sequential\n",
        "from keras.layers import Flatten\n",
        "from keras.layers.convolutional import Conv1D\n",
        "from keras.layers.convolutional import MaxPooling1D\n",
        "from keras.layers import Dense, Activation\n",
        "from sklearn.metrics import mean_squared_error\n",
        "from keras.layers import BatchNormalization, Dropout\n",
        "from google.colab import drive \n",
        "drive.mount('/content/gdrive')"
      ],
      "execution_count": 13,
      "outputs": [
        {
          "output_type": "stream",
          "text": [
            "Drive already mounted at /content/gdrive; to attempt to forcibly remount, call drive.mount(\"/content/gdrive\", force_remount=True).\n"
          ],
          "name": "stdout"
        }
      ]
    },
    {
      "cell_type": "code",
      "metadata": {
        "id": "i0eJldqrxM29"
      },
      "source": [
        "AI_Method = \"/content/gdrive/My Drive/Colab Notebooks/Nal7/12188MT-1-CNN-STL-Gini-1c\"\n",
        "Var_LRs=[1e-5]# 1e-4,1e-5,1e-6,1e-7,1e-8,1e-9] # -1 kullanma\n",
        "Var_Decays=[1e-5] #1e-3,1e-4,1e-5,1e-6,1e-7,1e-8,1e-9]\n",
        "Var_epochs=[100]# 100,500,1000,1500,2000]#,300,500]\n",
        " \n",
        "Streamflow=pd.read_csv('/content/gdrive/My Drive/Colab Notebooks/12188MT-1STL-1.csv', delimiter=';')"
      ],
      "execution_count": 14,
      "outputs": []
    },
    {
      "cell_type": "code",
      "metadata": {
        "colab": {
          "base_uri": "https://localhost:8080/"
        },
        "id": "PKeLrvjKxM3N",
        "outputId": "e544cb81-188a-4f1d-f376-355be66b84de"
      },
      "source": [
        "import numpy as np\n",
        "x= Streamflow.drop('Q',axis=1)\n",
        "Y= Streamflow['Q']\n",
        "x= x.drop('Wind',axis=1)\n",
        " \n",
        "x= x.drop('Prep',axis=1)\n",
        "x= x.drop('Temp',axis=1)\n",
        " \n",
        "x.head()\n",
        "x.info()"
      ],
      "execution_count": 15,
      "outputs": [
        {
          "output_type": "stream",
          "text": [
            "<class 'pandas.core.frame.DataFrame'>\n",
            "RangeIndex: 237 entries, 0 to 236\n",
            "Data columns (total 9 columns):\n",
            " #   Column  Non-Null Count  Dtype  \n",
            "---  ------  --------------  -----  \n",
            " 0   Q-1     237 non-null    float64\n",
            " 1   Q-2     237 non-null    float64\n",
            " 2   Q-3     237 non-null    float64\n",
            " 3   MTI     237 non-null    int64  \n",
            " 4   Humid   237 non-null    float64\n",
            " 5   MeanQ   237 non-null    float64\n",
            " 6   S       237 non-null    float64\n",
            " 7   T       237 non-null    float64\n",
            " 8   R       237 non-null    float64\n",
            "dtypes: float64(8), int64(1)\n",
            "memory usage: 16.8 KB\n"
          ],
          "name": "stdout"
        }
      ]
    },
    {
      "cell_type": "code",
      "metadata": {
        "colab": {
          "base_uri": "https://localhost:8080/"
        },
        "id": "HP41l7mOxM3b",
        "outputId": "727e4e54-9c4c-47c8-a4ee-e49c0625ad25"
      },
      "source": [
        "X=np.array(x)\n",
        "y=np.array(Y)\n",
        "print (X.shape[1])"
      ],
      "execution_count": 16,
      "outputs": [
        {
          "output_type": "stream",
          "text": [
            "9\n"
          ],
          "name": "stdout"
        }
      ]
    },
    {
      "cell_type": "code",
      "metadata": {
        "id": "NYQVG2IOxM3p"
      },
      "source": [
        "test_size = int(len(X) * 0.15)\n",
        "valid_size = int(len(X) * 0.15)\n",
        "train_size= len(X) - (valid_size+test_size)\n",
        "y_train, y_valid, y_test = y[0:train_size], y[train_size:train_size+valid_size], y[-test_size:]\n",
        "X_train, X_valid, X_test = X[0:train_size], X[train_size:train_size+valid_size], X[train_size+valid_size:]\n",
        "X_train = X_train.reshape((X_train.shape[0], X_train.shape[1], 1))\n",
        "X_valid = X_valid.reshape((X_valid.shape[0], X_valid.shape[1], 1))\n",
        "X_test = X_test.reshape((X_test.shape[0], X_test.shape[1], 1))"
      ],
      "execution_count": 17,
      "outputs": []
    },
    {
      "cell_type": "code",
      "metadata": {
        "colab": {
          "base_uri": "https://localhost:8080/"
        },
        "id": "pDp56jR4iL5B",
        "outputId": "31d2704b-f613-475c-e3bc-dd0696b5be45"
      },
      "source": [
        "print (y_train.shape, y_valid.shape, y_test.shape)"
      ],
      "execution_count": 18,
      "outputs": [
        {
          "output_type": "stream",
          "text": [
            "(167,) (35,) (35,)\n"
          ],
          "name": "stdout"
        }
      ]
    },
    {
      "cell_type": "code",
      "metadata": {
        "id": "NZmw4JnIxM33"
      },
      "source": [
        "from datetime import datetime\n",
        "from sklearn.metrics import mean_absolute_error\n",
        "from sklearn.metrics import mean_squared_error\n",
        "from math import sqrt\n",
        "import numpy as geek"
      ],
      "execution_count": 19,
      "outputs": []
    },
    {
      "cell_type": "code",
      "metadata": {
        "id": "pisDJM4b2rzU"
      },
      "source": [
        "model = Sequential()\n",
        "model.add(Conv1D(filters=8, kernel_size=2, activation='relu', input_shape=(X.shape[1],1)))\n",
        "model.add(Conv1D(filters=16, kernel_size=1, activation='relu'))\n",
        "model.add(Dropout(0.2))\n",
        "model.add(MaxPooling1D(pool_size=1))\n",
        "model.add(Flatten())         \n",
        "model.add(Dense(100, activation='relu'))\n",
        "model.add(Dense(1))"
      ],
      "execution_count": 20,
      "outputs": []
    },
    {
      "cell_type": "code",
      "metadata": {
        "colab": {
          "base_uri": "https://localhost:8080/"
        },
        "id": "PZ96ms4xxM4F",
        "outputId": "1e151983-39fe-4106-e7be-a1a79a9d8791"
      },
      "source": [
        "startTime = datetime.now()\n",
        "fileOfSummary = open(AI_Method+'_Summary_'+str(datetime.now()).replace(\":\", \".\")+'.csv', \"w\")\n",
        "fileOfSummary.write(\"Method,LR,DE,Epoch,RunTime,CCTr,CCVd,CCTt,NSTr,NSVd,NSTt,WITr,WIVd,WITt,RMSETr,RMSEVd,RMSETt,MAETr,MAEVd,MAETt\"+str(X.shape[1])+\"\\n\")"
      ],
      "execution_count": 21,
      "outputs": [
        {
          "output_type": "execute_result",
          "data": {
            "text/plain": [
              "112"
            ]
          },
          "metadata": {
            "tags": []
          },
          "execution_count": 21
        }
      ]
    },
    {
      "cell_type": "code",
      "metadata": {
        "colab": {
          "base_uri": "https://localhost:8080/"
        },
        "id": "5UFy_CAexM4O",
        "outputId": "83dcdc1f-2292-4480-f70d-fb01004baaba"
      },
      "source": [
        "for e_LR in Var_LRs:\n",
        "    for e_decay in Var_Decays:\n",
        "        for e_epoch in Var_epochs:\n",
        "            \n",
        "            \n",
        "            optimizer = keras.optimizers.Adam(lr=e_LR, decay=e_decay)\n",
        "            model.compile(optimizer=optimizer,loss='mean_squared_error')\n",
        "        \n",
        "            print(\" \")\n",
        "            print(\" \")\n",
        "            print(\"LRs:\",e_LR)\n",
        "            print(\"Decays:\",e_decay)\n",
        "            print(\"epochs:\",e_epoch)\n",
        "            history = model.fit(X_train, y_train, epochs=e_epoch, batch_size=256, verbose=0, validation_data=(X_valid, y_valid), shuffle=True)\n",
        "            \n",
        "            hist_df = pd.DataFrame(history.history) \n",
        "            Time_elasped= datetime.now() - startTime\n",
        "            print('\\nTime elapsed: ', Time_elasped)\n",
        " \n",
        "            Train = model.predict(X_train)\n",
        "            Valid = model.predict(X_valid)\n",
        "            Test = model.predict(X_test)\n",
        " \n",
        "            FileName=AI_Method+'-LR'+str(e_LR)+'-DE'+str(e_decay)+'-'+str(e_epoch)\n",
        "            np.savetxt(FileName+'_Train.csv', Train)\n",
        "            np.savetxt(FileName+'_Valid.csv', Valid)\n",
        "            np.savetxt(FileName+'_Test.csv', Test)\n",
        "            #print('a',y_train.shape,Train.shape,len(y_train),len(Train))\n",
        "            Train = geek.asarray(Train)# np.loadtxt(FileName+'_Train.csv')\n",
        "            Valid = geek.asarray(Valid)\n",
        "            Test = geek.asarray(Test)#np.loadtxt(FileName+'_Test.csv')\n",
        " \n",
        "            Train = Train.reshape(Train.shape[0])\n",
        "            Valid = Valid.reshape(Valid.shape[0])\n",
        "            Test = Test.reshape(Test.shape[0])\n",
        " \n",
        "            print(\" \")\n",
        "            print(\"LRs:\",e_LR)\n",
        "            print(\"Decays:\",e_decay)\n",
        "            print(\"epochs:\",e_epoch)\n",
        "            #print('b',y_train.shape,Train.shape,len(y_train),len(Train))\n",
        "            print(\"Train ==>\")\n",
        "            CC_Train=np.corrcoef(y_train,Train)\n",
        "            print(\"CC_Train = %.3f\" %CC_Train[0,1])\n",
        " \n",
        "            NSTr=HEEM.nse(Train, y_train) #1 - sum((Train-y_train)**2)/sum((y_train-np.mean(y_train))**2)\n",
        "            print(\"NSTr = %.2f\" %NSTr)\n",
        " \n",
        "            #d = 1 - [ ( sum( (obs - sim)^2 ) ] / sum( ( abs(sim - mean(obs)) + abs(obs - mean(obs)) )^2 ) \n",
        "\n",
        "            WITr=HEEM.d(Train, y_train)      #1 - sum((Train-y_train)**2)/sum( ( abs(Train-np.mean(y_train)) + abs(y_train-np.mean(y_train)) )**2 ) \n",
        "            print(\"WITr = %.2f\" %WITr)\n",
        "\n",
        "            rootMeanSquaredErrorTr = sqrt(mean_squared_error(y_train, Train))\n",
        "            print(\"RMSE = %.2f\" % rootMeanSquaredErrorTr)\n",
        "            MAETr=mean_absolute_error(y_train, Train)\n",
        "            print(\"MAE = %.2f\" %  MAETr)\n",
        " \n",
        "            print(\"Validation ===============>\")\n",
        "            CC_Valid=np.corrcoef(y_valid,Valid)\n",
        "            print(\"CC_Test = %.3f\" %CC_Valid[0,1])\n",
        " \n",
        "            NSVd=HEEM.nse(Valid, y_valid)\n",
        "            print(\"NSTt = %.2f\" %NSVd)\n",
        " \n",
        "            WIVd=HEEM.d(Valid, y_valid)\n",
        "            print(\"WITr = %.2f\" %WITr)\n",
        "\n",
        "            rootMeanSquaredErrorVd = sqrt(mean_squared_error(y_valid, Valid))\n",
        "            print(\"RMSE = %.2f\" % rootMeanSquaredErrorVd)\n",
        "            MAEVd=mean_absolute_error(y_valid, Valid)\n",
        "            print(\"MAE = %.2f\" %  MAEVd)\n",
        "\n",
        "            print(\"Test ======================>\")\n",
        "            CC_Test=np.corrcoef(y_test,Test)\n",
        "            print(\"CC_Test = %.3f\" %CC_Test[0,1])\n",
        " \n",
        "            NSTt=HEEM.nse(Test, y_test)\n",
        "            print(\"NSTt = %.2f\" %NSTt)\n",
        " \n",
        "            WITt=HEEM.d(Test, y_test) \n",
        "            print(\"WITr = %.2f\" %WITr)\n",
        "\n",
        "            rootMeanSquaredErrorTt = sqrt(mean_squared_error(y_test, Test))\n",
        "            print(\"RMSE = %.2f\" % rootMeanSquaredErrorTt)\n",
        "            MAETt=mean_absolute_error(y_test, Test)\n",
        "            print(\"MAE = %.2f\" %  MAETt)\n",
        " \n",
        "            fileOfSummary.write(AI_Method+','+str(e_LR)+','+str(e_decay)+','+str(e_epoch)+','+str(Time_elasped)+','\n",
        "              +str(CC_Train[0,1])+','+str(CC_Valid[0,1])+','+str(CC_Test[0,1])+','\n",
        "              +str(NSTr)+','+str(NSVd)+','+str(NSTt)+','\n",
        "              +str(WITr)+','+str(WIVd)+','+str(WITt)+','\n",
        "              +str(rootMeanSquaredErrorTr)+','+str(rootMeanSquaredErrorVd)+','+str(rootMeanSquaredErrorTt)+','\n",
        "              +str(MAETr)+','+str(MAEVd)+','+str(MAETt)+'\\n')"
      ],
      "execution_count": 22,
      "outputs": [
        {
          "output_type": "stream",
          "text": [
            " \n",
            " \n",
            "LRs: 1e-05\n",
            "Decays: 1e-05\n",
            "epochs: 100\n",
            "\n",
            "Time elapsed:  0:00:04.722853\n",
            " \n",
            "LRs: 1e-05\n",
            "Decays: 1e-05\n",
            "epochs: 100\n",
            "Train ==>\n",
            "CC_Train = -0.382\n",
            "NSTr = -0.44\n",
            "WITr = 0.35\n",
            "RMSE = 2.83\n",
            "MAE = 1.51\n",
            "Validation ===============>\n",
            "CC_Test = -0.583\n",
            "NSTt = -0.91\n",
            "WITr = 0.35\n",
            "RMSE = 2.71\n",
            "MAE = 1.80\n",
            "Test ======================>\n",
            "CC_Test = -0.431\n",
            "NSTt = -0.66\n",
            "WITr = 0.35\n",
            "RMSE = 1.86\n",
            "MAE = 1.16\n"
          ],
          "name": "stdout"
        }
      ]
    },
    {
      "cell_type": "code",
      "metadata": {
        "id": "Uds-9YfxxM4e",
        "scrolled": true,
        "colab": {
          "base_uri": "https://localhost:8080/"
        },
        "outputId": "d7def8e8-8a73-4dea-aa0c-1719c3ff2d8a"
      },
      "source": [
        "import io\n",
        "buf = io.StringIO()\n",
        "x.info(buf=buf)\n",
        "s = buf.getvalue()\n",
        "\n",
        "fileOfSummary.write(s)\n",
        "fileOfSummary.close()\n",
        "\n",
        "print(\"Finished\")"
      ],
      "execution_count": 23,
      "outputs": [
        {
          "output_type": "stream",
          "text": [
            "Finished\n"
          ],
          "name": "stdout"
        }
      ]
    }
  ]
}